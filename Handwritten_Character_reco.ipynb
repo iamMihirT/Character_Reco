{
  "nbformat": 4,
  "nbformat_minor": 0,
  "metadata": {
    "colab": {
      "name": "HCR.ipynb",
      "provenance": [],
      "collapsed_sections": []
    },
    "kernelspec": {
      "name": "python3",
      "display_name": "Python 3"
    }
  },
  "cells": [
    {
      "cell_type": "markdown",
      "metadata": {
        "id": "oQWqKoJrsaR1",
        "colab_type": "text"
      },
      "source": [
        "### HCR using LeNet"
      ]
    },
    {
      "cell_type": "code",
      "metadata": {
        "id": "VL_ue_VyBRg7",
        "colab_type": "code",
        "colab": {}
      },
      "source": [
        "import numpy as np \n",
        "import pandas as pd\n",
        "from matplotlib.pyplot import imshow\n",
        "import matplotlib.pyplot as plt\n",
        "from PIL import Image"
      ],
      "execution_count": 48,
      "outputs": []
    },
    {
      "cell_type": "code",
      "metadata": {
        "id": "EWaJUCUxCcv4",
        "colab_type": "code",
        "colab": {}
      },
      "source": [
        "from random import randint"
      ],
      "execution_count": 49,
      "outputs": []
    },
    {
      "cell_type": "code",
      "metadata": {
        "id": "FKXnYq8alcjp",
        "colab_type": "code",
        "colab": {}
      },
      "source": [
        "import keras\n",
        "from keras.models import Model, Sequential\n",
        "from keras.layers import Conv2D, MaxPooling2D\n",
        "from keras.layers import Activation, Dropout, Flatten, Dense, Input"
      ],
      "execution_count": 50,
      "outputs": []
    },
    {
      "cell_type": "code",
      "metadata": {
        "id": "FJgSc0r8qI8F",
        "colab_type": "code",
        "colab": {}
      },
      "source": [
        "X_FNAME = \"/content/alphanum-hasy-data-X.npy\"\n",
        "Y_FNAME = \"/content/alphanum-hasy-data-y.npy\"\n",
        "SYMBOL_FNAME = \"/content/symbols.csv\""
      ],
      "execution_count": 51,
      "outputs": []
    },
    {
      "cell_type": "code",
      "metadata": {
        "id": "WoR9Z2yRBWkx",
        "colab_type": "code",
        "colab": {
          "base_uri": "https://localhost:8080/",
          "height": 162
        },
        "outputId": "015555e6-f751-4a83-dd4c-923d7bff1ca3"
      },
      "source": [
        "X = np.load(X_FNAME)\n",
        "y = np.load(Y_FNAME)\n",
        "SYMBOLS = pd.read_csv(SYMBOL_FNAME) \n",
        "SYMBOLS = SYMBOLS[[\"symbol_id\", \"latex\"]]\n",
        "\n",
        "print(\"X.shape\", X.shape)\n",
        "print(\"y.shape\", y.shape)\n",
        "print(\"SYMBOLS\")\n",
        "SYMBOLS.head(2)"
      ],
      "execution_count": 52,
      "outputs": [
        {
          "output_type": "stream",
          "text": [
            "X.shape (4658, 32, 32)\n",
            "y.shape (4658,)\n",
            "SYMBOLS\n"
          ],
          "name": "stdout"
        },
        {
          "output_type": "execute_result",
          "data": {
            "text/html": [
              "<div>\n",
              "<style scoped>\n",
              "    .dataframe tbody tr th:only-of-type {\n",
              "        vertical-align: middle;\n",
              "    }\n",
              "\n",
              "    .dataframe tbody tr th {\n",
              "        vertical-align: top;\n",
              "    }\n",
              "\n",
              "    .dataframe thead th {\n",
              "        text-align: right;\n",
              "    }\n",
              "</style>\n",
              "<table border=\"1\" class=\"dataframe\">\n",
              "  <thead>\n",
              "    <tr style=\"text-align: right;\">\n",
              "      <th></th>\n",
              "      <th>symbol_id</th>\n",
              "      <th>latex</th>\n",
              "    </tr>\n",
              "  </thead>\n",
              "  <tbody>\n",
              "    <tr>\n",
              "      <th>0</th>\n",
              "      <td>31</td>\n",
              "      <td>A</td>\n",
              "    </tr>\n",
              "    <tr>\n",
              "      <th>1</th>\n",
              "      <td>32</td>\n",
              "      <td>B</td>\n",
              "    </tr>\n",
              "  </tbody>\n",
              "</table>\n",
              "</div>"
            ],
            "text/plain": [
              "   symbol_id latex\n",
              "0         31     A\n",
              "1         32     B"
            ]
          },
          "metadata": {
            "tags": []
          },
          "execution_count": 52
        }
      ]
    },
    {
      "cell_type": "markdown",
      "metadata": {
        "id": "aIVt0aL1dG1M",
        "colab_type": "text"
      },
      "source": [
        "<h1> Analysing the data"
      ]
    },
    {
      "cell_type": "code",
      "metadata": {
        "id": "ubB1LhWxBuAI",
        "colab_type": "code",
        "colab": {
          "base_uri": "https://localhost:8080/",
          "height": 87
        },
        "outputId": "218d0f38-b018-4cef-b70f-c881814e1595"
      },
      "source": [
        "def symbol_id_to_symbol(symbol_id = None):\n",
        "    if symbol_id:\n",
        "        symbol_data = SYMBOLS.loc[SYMBOLS['symbol_id'] == symbol_id]\n",
        "        if not symbol_data.empty:\n",
        "            return str(symbol_data[\"latex\"].values[0])\n",
        "        else:\n",
        "            print(\"This should not have happend, wrong symbol_id = \", symbol_id)\n",
        "            return None\n",
        "    else: \n",
        "        print(\"This should not have happend, no symbol id passed\")\n",
        "        return None        \n",
        "\n",
        "# test some values\n",
        "print(\"21 = \", symbol_id_to_symbol(21))\n",
        "print(\"32 = \", symbol_id_to_symbol(32))\n",
        "print(\"90 = \", symbol_id_to_symbol(90))"
      ],
      "execution_count": 53,
      "outputs": [
        {
          "output_type": "stream",
          "text": [
            "This should not have happend, wrong symbol_id =  21\n",
            "21 =  None\n",
            "32 =  B\n",
            "90 =  a\n"
          ],
          "name": "stdout"
        }
      ]
    },
    {
      "cell_type": "code",
      "metadata": {
        "id": "CKLOHHvMB84q",
        "colab_type": "code",
        "colab": {
          "base_uri": "https://localhost:8080/",
          "height": 557
        },
        "outputId": "5c4da05b-bfdd-4a58-d1ca-e3e1f2c19f50"
      },
      "source": [
        "f, ax = plt.subplots(2, 3, figsize=(12, 10))\n",
        "ax_x = 0\n",
        "ax_y = 0\n",
        "\n",
        "for i in range(6):\n",
        "    randKey = randint(0, X.shape[0])\n",
        "    ax[ax_x, ax_y].imshow(X[randKey], cmap='gray')\n",
        "    ax[ax_x, ax_y].title.set_text(\"Value : \" + symbol_id_to_symbol(y[randKey]))\n",
        "\n",
        "    # for proper subplots\n",
        "    if ax_x == 1:\n",
        "        ax_x = 0\n",
        "        ax_y = ax_y + 1\n",
        "    else:\n",
        "        ax_x = ax_x + 1"
      ],
      "execution_count": 54,
      "outputs": [
        {
          "output_type": "display_data",
          "data": {
            "image/png": "[encoded data removed]",
            "text/plain": [
              "<Figure size 864x720 with 6 Axes>"
            ]
          },
          "metadata": {
            "tags": [],
            "needs_background": "light"
          }
        }
      ]
    },
    {
      "cell_type": "code",
      "metadata": {
        "id": "Kmo3v0PJCF-1",
        "colab_type": "code",
        "colab": {
          "base_uri": "https://localhost:8080/",
          "height": 202
        },
        "outputId": "4e4e8f5a-951f-4026-a30f-a892d10c91d1"
      },
      "source": [
        "# print labels vs frequency matrix\n",
        "unique, counts = np.unique(y, return_counts=True)\n",
        "y_info_dict = { \"labels\" : unique, \"counts\": counts }\n",
        "y_info_frame = pd.DataFrame(y_info_dict)\n",
        "\n",
        "y_info_frame[\"labels\"] = y_info_frame[\"labels\"].apply(lambda x: symbol_id_to_symbol(x))\n",
        "y_info_frame.head()"
      ],
      "execution_count": 55,
      "outputs": [
        {
          "output_type": "execute_result",
          "data": {
            "text/html": [
              "<div>\n",
              "<style scoped>\n",
              "    .dataframe tbody tr th:only-of-type {\n",
              "        vertical-align: middle;\n",
              "    }\n",
              "\n",
              "    .dataframe tbody tr th {\n",
              "        vertical-align: top;\n",
              "    }\n",
              "\n",
              "    .dataframe thead th {\n",
              "        text-align: right;\n",
              "    }\n",
              "</style>\n",
              "<table border=\"1\" class=\"dataframe\">\n",
              "  <thead>\n",
              "    <tr style=\"text-align: right;\">\n",
              "      <th></th>\n",
              "      <th>labels</th>\n",
              "      <th>counts</th>\n",
              "    </tr>\n",
              "  </thead>\n",
              "  <tbody>\n",
              "    <tr>\n",
              "      <th>0</th>\n",
              "      <td>A</td>\n",
              "      <td>159</td>\n",
              "    </tr>\n",
              "    <tr>\n",
              "      <th>1</th>\n",
              "      <td>B</td>\n",
              "      <td>61</td>\n",
              "    </tr>\n",
              "    <tr>\n",
              "      <th>2</th>\n",
              "      <td>C</td>\n",
              "      <td>134</td>\n",
              "    </tr>\n",
              "    <tr>\n",
              "      <th>3</th>\n",
              "      <td>D</td>\n",
              "      <td>58</td>\n",
              "    </tr>\n",
              "    <tr>\n",
              "      <th>4</th>\n",
              "      <td>E</td>\n",
              "      <td>54</td>\n",
              "    </tr>\n",
              "  </tbody>\n",
              "</table>\n",
              "</div>"
            ],
            "text/plain": [
              "  labels  counts\n",
              "0      A     159\n",
              "1      B      61\n",
              "2      C     134\n",
              "3      D      58\n",
              "4      E      54"
            ]
          },
          "metadata": {
            "tags": []
          },
          "execution_count": 55
        }
      ]
    },
    {
      "cell_type": "code",
      "metadata": {
        "id": "CZbNKmdJKQCB",
        "colab_type": "code",
        "colab": {
          "base_uri": "https://localhost:8080/",
          "height": 35
        },
        "outputId": "c22ea0df-f64b-4a24-8654-ed9f5cc2117f"
      },
      "source": [
        "y_info_frame.shape"
      ],
      "execution_count": 56,
      "outputs": [
        {
          "output_type": "execute_result",
          "data": {
            "text/plain": [
              "(61, 2)"
            ]
          },
          "metadata": {
            "tags": []
          },
          "execution_count": 56
        }
      ]
    },
    {
      "cell_type": "code",
      "metadata": {
        "id": "xlSfFKx7Cq3-",
        "colab_type": "code",
        "colab": {
          "base_uri": "https://localhost:8080/",
          "height": 1000
        },
        "outputId": "ca26419a-d350-46c4-c7b3-3df8a70152a6"
      },
      "source": [
        "f, ax = plt.subplots(figsize=(10, 20))\n",
        "my_colors = ['r', 'g', 'b', 'k', 'y', 'm', 'c']\n",
        "y_info_frame[\"counts\"].plot(kind='barh', legend=False, color=my_colors, alpha=0.5)\n",
        "wrap = ax.set_yticklabels(list(y_info_frame[\"labels\"]))\n",
        "\n",
        "rects = ax.patches\n",
        "bar_labels_counts = list(y_info_frame[\"counts\"])\n",
        "\n",
        "for i in range(len(bar_labels_counts)):\n",
        "    label_value = str(bar_labels_counts[i])\n",
        "    ax.text(40, rects[i].get_y(), label_value, ha='center',\n",
        "          va='bottom', size='medium', color=\"black\", fontweight=\"bold\")"
      ],
      "execution_count": 57,
      "outputs": [
        {
          "output_type": "display_data",
          "data": {
            "image/png": "[encoded data removed]",
            "text/plain": [
              "<Figure size 720x1440 with 1 Axes>"
            ]
          },
          "metadata": {
            "tags": [],
            "needs_background": "light"
          }
        }
      ]
    },
    {
      "cell_type": "markdown",
      "metadata": {
        "id": "0Hx4LXGYDx86",
        "colab_type": "text"
      },
      "source": [
        "<h1> Pre processing data </h1>"
      ]
    },
    {
      "cell_type": "code",
      "metadata": {
        "id": "zANAW5DIDuiX",
        "colab_type": "code",
        "colab": {
          "base_uri": "https://localhost:8080/",
          "height": 35
        },
        "outputId": "19ed85a2-4f4a-4257-9d2d-245f2f3137a7"
      },
      "source": [
        "X.shape ## already in 32*32 shape"
      ],
      "execution_count": 58,
      "outputs": [
        {
          "output_type": "execute_result",
          "data": {
            "text/plain": [
              "(4658, 32, 32)"
            ]
          },
          "metadata": {
            "tags": []
          },
          "execution_count": 58
        }
      ]
    },
    {
      "cell_type": "code",
      "metadata": {
        "id": "rak1T0nPD7wO",
        "colab_type": "code",
        "colab": {
          "base_uri": "https://localhost:8080/",
          "height": 49
        },
        "outputId": "104bdf0a-053e-446a-ece7-abeed60c8aec"
      },
      "source": [
        "cv2_imshow(X[0])"
      ],
      "execution_count": 59,
      "outputs": [
        {
          "output_type": "display_data",
          "data": {
            "image/png": "[encoded data removed]",
            "text/plain": [
              "<PIL.Image.Image image mode=L size=32x32 at 0x7F973F84B4A8>"
            ]
          },
          "metadata": {
            "tags": []
          }
        }
      ]
    },
    {
      "cell_type": "code",
      "metadata": {
        "id": "c9itfC9hlEJA",
        "colab_type": "code",
        "colab": {
          "base_uri": "https://localhost:8080/",
          "height": 104
        },
        "outputId": "3c963d69-3a45-4c82-e039-031a38dc6275"
      },
      "source": [
        "np.unique(y)"
      ],
      "execution_count": 60,
      "outputs": [
        {
          "output_type": "execute_result",
          "data": {
            "text/plain": [
              "array([ 31,  32,  33,  34,  35,  36,  37,  38,  39,  40,  41,  42,  43,\n",
              "        44,  45,  46,  47,  48,  49,  50,  51,  52,  53,  54,  55,  56,\n",
              "        70,  71,  72,  73,  74,  75,  76,  77,  78,  79,  90,  91,  92,\n",
              "        93,  94,  95,  96,  97,  98,  99, 100, 101, 102, 103, 104, 105,\n",
              "       106, 107, 108, 110, 111, 112, 113, 114, 115])"
            ]
          },
          "metadata": {
            "tags": []
          },
          "execution_count": 60
        }
      ]
    },
    {
      "cell_type": "code",
      "metadata": {
        "id": "OdMjpP7wldiR",
        "colab_type": "code",
        "colab": {}
      },
      "source": [
        "y_new = []\n",
        "for val in y:\n",
        "  if val >=31 and val <=56:\n",
        "    val = val-31\n",
        "    y_new.append(val)\n",
        "  elif val >=70 and val <=79:\n",
        "    val = val-44\n",
        "    y_new.append(val)\n",
        "  else:\n",
        "    val = val-54 \n",
        "    y_new.append(val)"
      ],
      "execution_count": 61,
      "outputs": []
    },
    {
      "cell_type": "code",
      "metadata": {
        "id": "f7_kddOAlA8O",
        "colab_type": "code",
        "colab": {}
      },
      "source": [
        "y_n = np.array(y_new)"
      ],
      "execution_count": 62,
      "outputs": []
    },
    {
      "cell_type": "code",
      "metadata": {
        "id": "D8GmgFbCm5Ev",
        "colab_type": "code",
        "colab": {
          "base_uri": "https://localhost:8080/",
          "height": 35
        },
        "outputId": "81c036d2-afba-40b5-bed9-466cb5cadd28"
      },
      "source": [
        "y_n.shape"
      ],
      "execution_count": 63,
      "outputs": [
        {
          "output_type": "execute_result",
          "data": {
            "text/plain": [
              "(4658,)"
            ]
          },
          "metadata": {
            "tags": []
          },
          "execution_count": 63
        }
      ]
    },
    {
      "cell_type": "code",
      "metadata": {
        "id": "t5DxJcz8MfhW",
        "colab_type": "code",
        "colab": {
          "base_uri": "https://localhost:8080/",
          "height": 87
        },
        "outputId": "d66aa866-14ba-4e56-deab-4b0ab53b52ea"
      },
      "source": [
        "from tensorflow.keras.utils import to_categorical\n",
        "y_onehot = to_categorical(y_n, num_classes=62)\n",
        "\n",
        "print(\"Shape of y:\", y_onehot.shape)\n",
        "print(\"One value of y:\", y_onehot[0])"
      ],
      "execution_count": 64,
      "outputs": [
        {
          "output_type": "stream",
          "text": [
            "Shape of y: (4658, 62)\n",
            "One value of y: [1. 0. 0. 0. 0. 0. 0. 0. 0. 0. 0. 0. 0. 0. 0. 0. 0. 0. 0. 0. 0. 0. 0. 0.\n",
            " 0. 0. 0. 0. 0. 0. 0. 0. 0. 0. 0. 0. 0. 0. 0. 0. 0. 0. 0. 0. 0. 0. 0. 0.\n",
            " 0. 0. 0. 0. 0. 0. 0. 0. 0. 0. 0. 0. 0. 0.]\n"
          ],
          "name": "stdout"
        }
      ]
    },
    {
      "cell_type": "code",
      "metadata": {
        "id": "T92Ts9HvCtim",
        "colab_type": "code",
        "colab": {
          "base_uri": "https://localhost:8080/",
          "height": 87
        },
        "outputId": "499378ea-e9f8-491f-8bfd-17023b93bf79"
      },
      "source": [
        "from sklearn.model_selection import train_test_split\n",
        "\n",
        "X_train, X_test, y_train, y_test = train_test_split(X, y_onehot, test_size=0.2)\n",
        "\n",
        "print(\"Train dataset shape\")\n",
        "print(X_train.shape, y_train.shape)\n",
        "print(\"Test dataset shape\")\n",
        "print(X_test.shape, y_test.shape)"
      ],
      "execution_count": 65,
      "outputs": [
        {
          "output_type": "stream",
          "text": [
            "Train dataset shape\n",
            "(3726, 32, 32) (3726, 62)\n",
            "Test dataset shape\n",
            "(932, 32, 32) (932, 62)\n"
          ],
          "name": "stdout"
        }
      ]
    },
    {
      "cell_type": "code",
      "metadata": {
        "id": "CWgQpyGkQ6hR",
        "colab_type": "code",
        "colab": {}
      },
      "source": [
        "X_train = X_train.reshape(X_train.shape[0], 32, 32, 1) #grayscale\n",
        "X_test = X_test.reshape(X_test.shape[0], 32, 32, 1)"
      ],
      "execution_count": 66,
      "outputs": []
    },
    {
      "cell_type": "code",
      "metadata": {
        "id": "T7wN3KCTXgck",
        "colab_type": "code",
        "colab": {}
      },
      "source": [
        "# normalize data\n",
        "X_train = X_train / 255.0\n",
        "X_test = X_test / 255.0"
      ],
      "execution_count": 67,
      "outputs": []
    },
    {
      "cell_type": "markdown",
      "metadata": {
        "id": "4BtyoD5Nde2X",
        "colab_type": "text"
      },
      "source": [
        "<h1> LeNet model </h1>"
      ]
    },
    {
      "cell_type": "code",
      "metadata": {
        "id": "KzUv9JUoVxtQ",
        "colab_type": "code",
        "colab": {}
      },
      "source": [
        "np.random.seed(0)"
      ],
      "execution_count": 68,
      "outputs": []
    },
    {
      "cell_type": "code",
      "metadata": {
        "id": "ZthVgcFJDryi",
        "colab_type": "code",
        "colab": {}
      },
      "source": [
        "model = Sequential()\n",
        "model.add(Conv2D(filters=6, kernel_size=(5, 5), activation='relu', input_shape=(32,32,1)))\n",
        "model.add(MaxPooling2D(pool_size=(2, 2), strides=2))\n",
        "model.add(Conv2D(filters=16, kernel_size=(5, 5), activation='relu'))\n",
        "model.add(MaxPooling2D(pool_size=(2, 2), strides=1))\n",
        "model.add(Flatten())\n",
        "model.add(Dense(units=120, activation='relu'))\n",
        "model.add(Dense(units=84, activation='relu'))\n",
        "model.add(Dense(units=62, activation = 'softmax'))"
      ],
      "execution_count": 69,
      "outputs": []
    },
    {
      "cell_type": "code",
      "metadata": {
        "id": "8NDUwJw0DOYY",
        "colab_type": "code",
        "colab": {
          "base_uri": "https://localhost:8080/",
          "height": 433
        },
        "outputId": "520854df-4d98-4315-c38e-d5735affc29c"
      },
      "source": [
        "model.summary()"
      ],
      "execution_count": 70,
      "outputs": [
        {
          "output_type": "stream",
          "text": [
            "Model: \"sequential_1\"\n",
            "_________________________________________________________________\n",
            "Layer (type)                 Output Shape              Param #   \n",
            "=================================================================\n",
            "conv2d_2 (Conv2D)            (None, 28, 28, 6)         156       \n",
            "_________________________________________________________________\n",
            "max_pooling2d_2 (MaxPooling2 (None, 14, 14, 6)         0         \n",
            "_________________________________________________________________\n",
            "conv2d_3 (Conv2D)            (None, 10, 10, 16)        2416      \n",
            "_________________________________________________________________\n",
            "max_pooling2d_3 (MaxPooling2 (None, 9, 9, 16)          0         \n",
            "_________________________________________________________________\n",
            "flatten_1 (Flatten)          (None, 1296)              0         \n",
            "_________________________________________________________________\n",
            "dense_3 (Dense)              (None, 120)               155640    \n",
            "_________________________________________________________________\n",
            "dense_4 (Dense)              (None, 84)                10164     \n",
            "_________________________________________________________________\n",
            "dense_5 (Dense)              (None, 62)                5270      \n",
            "=================================================================\n",
            "Total params: 173,646\n",
            "Trainable params: 173,646\n",
            "Non-trainable params: 0\n",
            "_________________________________________________________________\n"
          ],
          "name": "stdout"
        }
      ]
    },
    {
      "cell_type": "code",
      "metadata": {
        "id": "ao5x5MTbLJcr",
        "colab_type": "code",
        "colab": {}
      },
      "source": [
        "model.compile(loss=\"categorical_crossentropy\", metrics=[\"accuracy\"], optimizer=\"adam\")"
      ],
      "execution_count": 71,
      "outputs": []
    },
    {
      "cell_type": "code",
      "metadata": {
        "id": "1VXwKCugLort",
        "colab_type": "code",
        "colab": {
          "base_uri": "https://localhost:8080/",
          "height": 711
        },
        "outputId": "f48936e5-168e-4007-9cd6-e74be45ef39b"
      },
      "source": [
        "history = model.fit(x = X_train, y = y_train, batch_size = 32, epochs = 20)"
      ],
      "execution_count": 72,
      "outputs": [
        {
          "output_type": "stream",
          "text": [
            "Epoch 1/20\n",
            "117/117 [==============================] - 3s 23ms/step - loss: 3.3451 - accuracy: 0.1967\n",
            "Epoch 2/20\n",
            "117/117 [==============================] - 3s 23ms/step - loss: 1.8208 - accuracy: 0.4847\n",
            "Epoch 3/20\n",
            "117/117 [==============================] - 3s 23ms/step - loss: 1.2445 - accuracy: 0.6025\n",
            "Epoch 4/20\n",
            "117/117 [==============================] - 3s 22ms/step - loss: 0.9765 - accuracy: 0.6828\n",
            "Epoch 5/20\n",
            "117/117 [==============================] - 3s 22ms/step - loss: 0.7948 - accuracy: 0.7391\n",
            "Epoch 6/20\n",
            "117/117 [==============================] - 3s 22ms/step - loss: 0.6798 - accuracy: 0.7668\n",
            "Epoch 7/20\n",
            "117/117 [==============================] - 3s 22ms/step - loss: 0.6016 - accuracy: 0.7890\n",
            "Epoch 8/20\n",
            "117/117 [==============================] - 3s 22ms/step - loss: 0.5028 - accuracy: 0.8180\n",
            "Epoch 9/20\n",
            "117/117 [==============================] - 3s 22ms/step - loss: 0.4789 - accuracy: 0.8256\n",
            "Epoch 10/20\n",
            "117/117 [==============================] - 3s 23ms/step - loss: 0.4353 - accuracy: 0.8392\n",
            "Epoch 11/20\n",
            "117/117 [==============================] - 3s 23ms/step - loss: 0.3741 - accuracy: 0.8543\n",
            "Epoch 12/20\n",
            "117/117 [==============================] - 3s 23ms/step - loss: 0.3436 - accuracy: 0.8677\n",
            "Epoch 13/20\n",
            "117/117 [==============================] - 3s 22ms/step - loss: 0.3204 - accuracy: 0.8765\n",
            "Epoch 14/20\n",
            "117/117 [==============================] - 3s 23ms/step - loss: 0.2834 - accuracy: 0.8886\n",
            "Epoch 15/20\n",
            "117/117 [==============================] - 3s 23ms/step - loss: 0.2595 - accuracy: 0.9037\n",
            "Epoch 16/20\n",
            "117/117 [==============================] - 3s 22ms/step - loss: 0.2421 - accuracy: 0.9058\n",
            "Epoch 17/20\n",
            "117/117 [==============================] - 3s 22ms/step - loss: 0.2184 - accuracy: 0.9147\n",
            "Epoch 18/20\n",
            "117/117 [==============================] - 3s 23ms/step - loss: 0.1925 - accuracy: 0.9254\n",
            "Epoch 19/20\n",
            "117/117 [==============================] - 3s 22ms/step - loss: 0.1883 - accuracy: 0.9332\n",
            "Epoch 20/20\n",
            "117/117 [==============================] - 3s 22ms/step - loss: 0.1816 - accuracy: 0.9334\n"
          ],
          "name": "stdout"
        }
      ]
    },
    {
      "cell_type": "code",
      "metadata": {
        "id": "EXyZo608ZhbI",
        "colab_type": "code",
        "colab": {
          "base_uri": "https://localhost:8080/",
          "height": 295
        },
        "outputId": "10455c03-95a1-40c7-ff2a-623e5122abdd"
      },
      "source": [
        "plt.plot(history.history['loss'])\n",
        "plt.title('model loss')\n",
        "plt.ylabel('loss')\n",
        "plt.xlabel('epoch')\n",
        "plt.legend(['train'], loc='upper right')\n",
        "plt.show()"
      ],
      "execution_count": 73,
      "outputs": [
        {
          "output_type": "display_data",
          "data": {
            "image/png": "[encoded data removed]",
            "text/plain": [
              "<Figure size 432x288 with 1 Axes>"
            ]
          },
          "metadata": {
            "tags": [],
            "needs_background": "light"
          }
        }
      ]
    },
    {
      "cell_type": "code",
      "metadata": {
        "id": "QBSvm5Z-Y1U7",
        "colab_type": "code",
        "colab": {
          "base_uri": "https://localhost:8080/",
          "height": 295
        },
        "outputId": "9f172c04-2954-4b5d-9eeb-f97e716cae9b"
      },
      "source": [
        "plt.plot(history.history['accuracy'])\n",
        "plt.title('model accuracy')\n",
        "plt.ylabel('accuracy')\n",
        "plt.xlabel('epoch')\n",
        "plt.legend(['train'], loc='upper left')\n",
        "plt.show()"
      ],
      "execution_count": 74,
      "outputs": [
        {
          "output_type": "display_data",
          "data": {
            "image/png": "[encoded data removed]",
            "text/plain": [
              "<Figure size 432x288 with 1 Axes>"
            ]
          },
          "metadata": {
            "tags": [],
            "needs_background": "light"
          }
        }
      ]
    },
    {
      "cell_type": "code",
      "metadata": {
        "id": "etUj89QpQtDJ",
        "colab_type": "code",
        "colab": {
          "base_uri": "https://localhost:8080/",
          "height": 52
        },
        "outputId": "c1d17890-6274-4874-b07d-402e0d7884c0"
      },
      "source": [
        "model.evaluate(X_test, y_test)"
      ],
      "execution_count": 75,
      "outputs": [
        {
          "output_type": "stream",
          "text": [
            "30/30 [==============================] - 0s 10ms/step - loss: 1.0729 - accuracy: 0.7328\n"
          ],
          "name": "stdout"
        },
        {
          "output_type": "execute_result",
          "data": {
            "text/plain": [
              "[1.072912335395813, 0.7328326106071472]"
            ]
          },
          "metadata": {
            "tags": []
          },
          "execution_count": 75
        }
      ]
    },
    {
      "cell_type": "markdown",
      "metadata": {
        "id": "qnGQnuE9bfvl",
        "colab_type": "text"
      },
      "source": [
        "### Adding a dropout layer"
      ]
    },
    {
      "cell_type": "code",
      "metadata": {
        "id": "GRksH6G1WvK8",
        "colab_type": "code",
        "colab": {}
      },
      "source": [
        "model_dropout = Sequential()\n",
        "model_dropout.add(Conv2D(filters=6, kernel_size=(5, 5), activation='relu', input_shape=(32,32,1)))\n",
        "model_dropout.add(MaxPooling2D(pool_size=(2, 2), strides=2))\n",
        "model_dropout.add(Conv2D(filters=16, kernel_size=(5, 5), activation='relu'))\n",
        "model_dropout.add(MaxPooling2D(pool_size=(2, 2), strides=1))\n",
        "model_dropout.add(Dropout(rate=0.2))\n",
        "model_dropout.add(Flatten())\n",
        "model_dropout.add(Dense(units=120, activation='relu'))\n",
        "model_dropout.add(Dense(units=84, activation='relu'))\n",
        "model_dropout.add(Dense(units=62, activation = 'softmax'))"
      ],
      "execution_count": 76,
      "outputs": []
    },
    {
      "cell_type": "code",
      "metadata": {
        "id": "iE7w5m90ay87",
        "colab_type": "code",
        "colab": {}
      },
      "source": [
        "model_dropout.compile(loss=\"categorical_crossentropy\", metrics=[\"accuracy\"], optimizer=\"adam\")"
      ],
      "execution_count": 77,
      "outputs": []
    },
    {
      "cell_type": "code",
      "metadata": {
        "id": "wVH38IuFa9eC",
        "colab_type": "code",
        "colab": {
          "base_uri": "https://localhost:8080/",
          "height": 537
        },
        "outputId": "59438f15-e6fd-4cc7-96d1-d44ac3a85e57"
      },
      "source": [
        "history = model_dropout.fit(x = X_train, y = y_train, batch_size = 32, epochs = 15)"
      ],
      "execution_count": 78,
      "outputs": [
        {
          "output_type": "stream",
          "text": [
            "Epoch 1/15\n",
            "117/117 [==============================] - 3s 24ms/step - loss: 3.3934 - accuracy: 0.1785\n",
            "Epoch 2/15\n",
            "117/117 [==============================] - 3s 24ms/step - loss: 1.8279 - accuracy: 0.4748\n",
            "Epoch 3/15\n",
            "117/117 [==============================] - 3s 23ms/step - loss: 1.3016 - accuracy: 0.5947\n",
            "Epoch 4/15\n",
            "117/117 [==============================] - 3s 23ms/step - loss: 1.0334 - accuracy: 0.6669\n",
            "Epoch 5/15\n",
            "117/117 [==============================] - 3s 23ms/step - loss: 0.8835 - accuracy: 0.7056\n",
            "Epoch 6/15\n",
            "117/117 [==============================] - 3s 23ms/step - loss: 0.7620 - accuracy: 0.7354\n",
            "Epoch 7/15\n",
            "117/117 [==============================] - 3s 23ms/step - loss: 0.6660 - accuracy: 0.7622\n",
            "Epoch 8/15\n",
            "117/117 [==============================] - 3s 23ms/step - loss: 0.5944 - accuracy: 0.7856\n",
            "Epoch 9/15\n",
            "117/117 [==============================] - 3s 23ms/step - loss: 0.5232 - accuracy: 0.8097\n",
            "Epoch 10/15\n",
            "117/117 [==============================] - 3s 23ms/step - loss: 0.4768 - accuracy: 0.8290\n",
            "Epoch 11/15\n",
            "117/117 [==============================] - 3s 23ms/step - loss: 0.4350 - accuracy: 0.8336\n",
            "Epoch 12/15\n",
            "117/117 [==============================] - 3s 23ms/step - loss: 0.4079 - accuracy: 0.8476\n",
            "Epoch 13/15\n",
            "117/117 [==============================] - 3s 23ms/step - loss: 0.3719 - accuracy: 0.8607\n",
            "Epoch 14/15\n",
            "117/117 [==============================] - 3s 23ms/step - loss: 0.3569 - accuracy: 0.8680\n",
            "Epoch 15/15\n",
            "117/117 [==============================] - 3s 23ms/step - loss: 0.3066 - accuracy: 0.8833\n"
          ],
          "name": "stdout"
        }
      ]
    },
    {
      "cell_type": "code",
      "metadata": {
        "id": "1MkAgvv2bArz",
        "colab_type": "code",
        "colab": {
          "base_uri": "https://localhost:8080/",
          "height": 295
        },
        "outputId": "829b1210-0120-412d-ce31-a4221b85c642"
      },
      "source": [
        "plt.plot(history.history['loss'])\n",
        "plt.title('model loss')\n",
        "plt.ylabel('loss')\n",
        "plt.xlabel('epoch')\n",
        "plt.legend(['train'], loc='upper right')\n",
        "plt.show()"
      ],
      "execution_count": 79,
      "outputs": [
        {
          "output_type": "display_data",
          "data": {
            "image/png": "[encoded data removed]",
            "text/plain": [
              "<Figure size 432x288 with 1 Axes>"
            ]
          },
          "metadata": {
            "tags": [],
            "needs_background": "light"
          }
        }
      ]
    },
    {
      "cell_type": "code",
      "metadata": {
        "id": "pQZIoo2RbSmm",
        "colab_type": "code",
        "colab": {
          "base_uri": "https://localhost:8080/",
          "height": 295
        },
        "outputId": "4ee523f0-0ef1-4627-8670-ae53f0c402d4"
      },
      "source": [
        "plt.plot(history.history['accuracy'])\n",
        "plt.title('model accuracy')\n",
        "plt.ylabel('accuracy')\n",
        "plt.xlabel('epoch')\n",
        "plt.legend(['train'], loc='upper left')\n",
        "plt.show()"
      ],
      "execution_count": 80,
      "outputs": [
        {
          "output_type": "display_data",
          "data": {
            "image/png": "[encoded data removed]",
            "text/plain": [
              "<Figure size 432x288 with 1 Axes>"
            ]
          },
          "metadata": {
            "tags": [],
            "needs_background": "light"
          }
        }
      ]
    },
    {
      "cell_type": "code",
      "metadata": {
        "id": "_BaT8-ipbWrM",
        "colab_type": "code",
        "colab": {
          "base_uri": "https://localhost:8080/",
          "height": 52
        },
        "outputId": "bf389177-ed0e-4ebf-96a1-e5c8f8345fcf"
      },
      "source": [
        "model_dropout.evaluate(X_test, y_test) ## accuracy increased"
      ],
      "execution_count": 81,
      "outputs": [
        {
          "output_type": "stream",
          "text": [
            "30/30 [==============================] - 0s 10ms/step - loss: 0.9227 - accuracy: 0.7414\n"
          ],
          "name": "stdout"
        },
        {
          "output_type": "execute_result",
          "data": {
            "text/plain": [
              "[0.922670841217041, 0.741416335105896]"
            ]
          },
          "metadata": {
            "tags": []
          },
          "execution_count": 81
        }
      ]
    }
  ]
}